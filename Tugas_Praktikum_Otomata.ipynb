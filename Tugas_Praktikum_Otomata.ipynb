{
  "nbformat": 4,
  "nbformat_minor": 0,
  "metadata": {
    "colab": {
      "provenance": []
    },
    "kernelspec": {
      "name": "python3",
      "display_name": "Python 3"
    },
    "language_info": {
      "name": "python"
    }
  },
  "cells": [
    {
      "cell_type": "code",
      "execution_count": null,
      "metadata": {
        "colab": {
          "base_uri": "https://localhost:8080/"
        },
        "id": "lvRx3jhFd1dM",
        "outputId": "58329ad4-0530-49f2-ee4a-2f1aba9c7b29"
      },
      "outputs": [
        {
          "output_type": "stream",
          "name": "stdout",
          "text": [
            "Masukkan string (atau tekan Enter untuk keluar): ABA\n",
            "'ABA' adalah palindrom.\n",
            "Masukkan string (atau tekan Enter untuk keluar): AB\n",
            "'AB' bukan palindrom.\n",
            "Masukkan string (atau tekan Enter untuk keluar): AB12321BA\n",
            "'AB12321BA' adalah palindrom.\n",
            "Masukkan string (atau tekan Enter untuk keluar): BA23AB\n",
            "'BA23AB' bukan palindrom.\n",
            "Masukkan string (atau tekan Enter untuk keluar): 12321\n",
            "'12321' adalah palindrom.\n",
            "Masukkan string (atau tekan Enter untuk keluar): 12345\n",
            "'12345' bukan palindrom.\n",
            "Masukkan string (atau tekan Enter untuk keluar): abcba\n",
            "'abcba' adalah palindrom.\n",
            "Masukkan string (atau tekan Enter untuk keluar): \n",
            "Program selesai.\n"
          ]
        }
      ],
      "source": [
        "def is_palindrome(s):\n",
        "    # Membersihkan string dari karakter non-alphanumeric\n",
        "    cleaned_string = ''.join(char for char in s if char.isalnum()).lower()\n",
        "    # Membandingkan string yang dibersihkan dengan kebalikannya\n",
        "    return cleaned_string == cleaned_string[::-1]\n",
        "\n",
        "while True:\n",
        "    user_input = input(\"Masukkan string (atau tekan Enter untuk keluar): \")\n",
        "    if user_input == \"\":\n",
        "        print(\"Program selesai.\")\n",
        "        break\n",
        "    if is_palindrome(user_input):\n",
        "        print(f\"'{user_input}' adalah palindrom.\")\n",
        "    else:\n",
        "        print(f\"'{user_input}' bukan palindrom.\")\n"
      ]
    }
  ]
}